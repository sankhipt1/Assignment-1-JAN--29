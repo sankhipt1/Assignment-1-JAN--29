{
 "cells": [
  {
   "cell_type": "code",
   "execution_count": null,
   "id": "a3230173-ea1b-41ba-be5c-8327a67b0b78",
   "metadata": {},
   "outputs": [],
   "source": [
    "1. Python programming language was developed by Guido Van Rossum"
   ]
  },
  {
   "cell_type": "code",
   "execution_count": null,
   "id": "e388fafb-add7-42de-a360-04ebd4a42182",
   "metadata": {},
   "outputs": [],
   "source": [
    "2. Python programming supports: Object-oriented, rocedural,,functional programming. it also supports scripting i.e. essential for prototyping, automation and develoing small tools."
   ]
  },
  {
   "cell_type": "code",
   "execution_count": null,
   "id": "32814b3b-0786-4150-85ce-3b37df33f6b2",
   "metadata": {},
   "outputs": [],
   "source": [
    "3. Yes"
   ]
  },
  {
   "cell_type": "code",
   "execution_count": null,
   "id": "e69602b8-2936-4be5-840a-298bca01f681",
   "metadata": {},
   "outputs": [],
   "source": [
    "4. \".py\""
   ]
  },
  {
   "cell_type": "code",
   "execution_count": null,
   "id": "3e98c571-7bfe-49ec-8988-b6474cd5e223",
   "metadata": {},
   "outputs": [],
   "source": [
    "5. Python code is interpreted, not compiled. It isexecuted line by line, by an interpreter."
   ]
  },
  {
   "cell_type": "code",
   "execution_count": null,
   "id": "8ef30986-80c9-4791-b30d-d3370c355979",
   "metadata": {},
   "outputs": [],
   "source": [
    "6. Conditional: \"if\", \"elif\", \"else\"\n",
    "   Loops: \"While\" and \"for\"\n",
    "   Function: \"def\""
   ]
  },
  {
   "cell_type": "code",
   "execution_count": null,
   "id": "ea1373aa-9d75-4945-8f3d-306d76f0f620",
   "metadata": {},
   "outputs": [],
   "source": [
    "7. # "
   ]
  },
  {
   "cell_type": "code",
   "execution_count": null,
   "id": "bea5aa8b-af58-4ab7-8340-ade306b7d89f",
   "metadata": {},
   "outputs": [],
   "source": [
    "8. import sys\n",
    "print(sys.version_info)"
   ]
  },
  {
   "cell_type": "code",
   "execution_count": null,
   "id": "0707952b-2a70-4286-9fc8-107f5f05b10d",
   "metadata": {},
   "outputs": [],
   "source": [
    "9. 'lamda' function"
   ]
  },
  {
   "cell_type": "code",
   "execution_count": null,
   "id": "21a8f9ef-b66f-4555-a458-7c8391c9b865",
   "metadata": {},
   "outputs": [],
   "source": [
    "10. Programming Language Paradigm"
   ]
  },
  {
   "cell_type": "code",
   "execution_count": null,
   "id": "a9450ded-5c90-4a3e-be08-6c0fcfaf4796",
   "metadata": {},
   "outputs": [],
   "source": [
    "11. type(), sum(), print(), len(), int(), float(), range()"
   ]
  },
  {
   "cell_type": "code",
   "execution_count": null,
   "id": "d756439f-06bb-4b59-9714-c22ded3bf7cc",
   "metadata": {},
   "outputs": [],
   "source": [
    "12. 79 characters"
   ]
  },
  {
   "cell_type": "code",
   "execution_count": null,
   "id": "9a46ba46-8921-4e6c-bb37-a5101e1dd02d",
   "metadata": {},
   "outputs": [],
   "source": [
    "13. Python is a general purpose,interpreted and high level laguage which is also easily readable. It can be used in vast field such as data science, web development scientific and mathematical computing etc."
   ]
  },
  {
   "cell_type": "code",
   "execution_count": null,
   "id": "fe2de9a9-c456-4049-9e5f-2e980004d40e",
   "metadata": {},
   "outputs": [],
   "source": [
    "14. Memory management in python  involves a private heap containing all python object and data structures. The managem of the private heap is ensured internally by the python memory manager."
   ]
  },
  {
   "cell_type": "code",
   "execution_count": null,
   "id": "349e88e3-119e-42eb-b8ce-e2241ddb1405",
   "metadata": {},
   "outputs": [],
   "source": [
    "15.the complete path of python.exe can be added by:\n",
    "    a. Right click this pc\n",
    "    b. Click on advanced system\n",
    "    c. Select the path in system variable and edit\n",
    "    d. Click on New entering Python's installation diectory."
   ]
  },
  {
   "cell_type": "code",
   "execution_count": null,
   "id": "132a3b76-304f-420b-ae76-7998fa9bbd43",
   "metadata": {},
   "outputs": [],
   "source": [
    "16. Yes, Very Important."
   ]
  }
 ],
 "metadata": {
  "kernelspec": {
   "display_name": "Python 3 (ipykernel)",
   "language": "python",
   "name": "python3"
  },
  "language_info": {
   "codemirror_mode": {
    "name": "ipython",
    "version": 3
   },
   "file_extension": ".py",
   "mimetype": "text/x-python",
   "name": "python",
   "nbconvert_exporter": "python",
   "pygments_lexer": "ipython3",
   "version": "3.10.6"
  }
 },
 "nbformat": 4,
 "nbformat_minor": 5
}
